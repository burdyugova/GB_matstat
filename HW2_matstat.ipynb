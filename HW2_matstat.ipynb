{
 "cells": [
  {
   "cell_type": "markdown",
   "metadata": {},
   "source": [
    "## Задача 1\n",
    "\n",
    "Контрольная работа состоит из пяти вопросов. На каждый вопрос приведено четыре варианта ответа, один из которых правильный. Составьте закон распределения числа правильных ответов при простом угадывании. \n",
    "\n",
    "**Найдите M(X), D(X).**"
   ]
  },
  {
   "cell_type": "code",
   "execution_count": 1,
   "metadata": {},
   "outputs": [],
   "source": [
    "import numpy as np"
   ]
  },
  {
   "cell_type": "code",
   "execution_count": 2,
   "metadata": {},
   "outputs": [],
   "source": [
    "def combinations(n: int, k: int) -> int:\n",
    "    \"\"\"Число сочетаний.\n",
    "    \"\"\"\n",
    "    \n",
    "    return np.math.factorial(n) // (np.math.factorial(k) * np.math.factorial(n - k))"
   ]
  },
  {
   "cell_type": "markdown",
   "metadata": {},
   "source": [
    "Воспользуемся формулой Бернули, чтобы посчитать распределение:\n",
    "$P(X = k) = C_n^k p^k (1 - p)^{n - k}$"
   ]
  },
  {
   "cell_type": "code",
   "execution_count": 3,
   "metadata": {},
   "outputs": [
    {
     "name": "stdout",
     "output_type": "stream",
     "text": [
      "0.2373046875 0.3955078125 0.263671875 0.087890625 0.0146484375 0.0009765625\n"
     ]
    }
   ],
   "source": [
    "k = [0, 1, 2, 3, 4, 5]\n",
    "n = 5\n",
    "p = 0.25\n",
    "\n",
    "P_X0 = (combinations (5, 0)) * (0.25 ** 0) * (0.75 ** 5)\n",
    "\n",
    "P_X1 = combinations (5, 1) * (0.25 ** 1) * (0.75 ** 4)\n",
    "\n",
    "P_X2 = combinations (5, 2) * (0.25 ** 2) * (0.75 ** 3)\n",
    "\n",
    "P_X3 = combinations (5, 3) * (0.25 ** 3) * (0.75 ** 2)\n",
    "\n",
    "P_X4 = combinations (5, 4) * (0.25 ** 4) * (0.75 ** 1)\n",
    "\n",
    "P_X5 = combinations (5, 5) * (0.25 ** 5) * (0.75 ** 0)\n",
    "\n",
    "\n",
    "print (P_X0, P_X1, P_X2, P_X3, P_X4, P_X5)"
   ]
  },
  {
   "cell_type": "markdown",
   "metadata": {},
   "source": [
    "Чтобы вычислить M(X) зададим массив, где определено количество вероятностей угадать 0 ответов, 1, 2 и тп:"
   ]
  },
  {
   "cell_type": "code",
   "execution_count": 4,
   "metadata": {},
   "outputs": [
    {
     "name": "stdout",
     "output_type": "stream",
     "text": [
      "1.25\n"
     ]
    }
   ],
   "source": [
    "x_values = np.arange(0, 6)\n",
    "\n",
    "x_probabilities = np.array([P_X0, P_X1, P_X2, P_X3, P_X4, P_X5])\n",
    "\n",
    "m = x_values.dot(x_probabilities)\n",
    "\n",
    "print (m)\n"
   ]
  },
  {
   "cell_type": "markdown",
   "metadata": {},
   "source": [
    "Вычисляем дисперсию:"
   ]
  },
  {
   "cell_type": "code",
   "execution_count": 5,
   "metadata": {},
   "outputs": [
    {
     "name": "stdout",
     "output_type": "stream",
     "text": [
      "0.9375\n"
     ]
    }
   ],
   "source": [
    "y_values = x_values - m\n",
    "\n",
    "z_values = y_values ** 2\n",
    "\n",
    "d = z_values.dot(x_probabilities)\n",
    "\n",
    "print(d)"
   ]
  },
  {
   "cell_type": "markdown",
   "metadata": {},
   "source": [
    "## Задача 2\n",
    "\n",
    "Пользователь получает в среднем 10 писем со спамом на свой почтовый ящик за сутки. \n",
    "\n",
    "Найти число N, такое, что с вероятностью 0.95 пользователь получит не более N писем со спамом за текущий день."
   ]
  },
  {
   "cell_type": "code",
   "execution_count": 101,
   "metadata": {},
   "outputs": [],
   "source": [
    "PN = 0\n",
    "N = -1"
   ]
  },
  {
   "cell_type": "markdown",
   "metadata": {},
   "source": [
    "Воспользуемся формулоу Пуасона: $P(X = k) = \\dfrac{\\lambda^k e^{-\\lambda}}{k!}$"
   ]
  },
  {
   "cell_type": "code",
   "execution_count": 102,
   "metadata": {},
   "outputs": [],
   "source": [
    "def poisson_proba(N: int) -> float:\n",
    "    \"\"\"Формула Пуассона.\n",
    "    \"\"\"\n",
    "    \n",
    "    return (10 ** N) * (np.exp(-10)) / np.math.factorial(N)"
   ]
  },
  {
   "cell_type": "code",
   "execution_count": null,
   "metadata": {},
   "outputs": [],
   "source": []
  },
  {
   "cell_type": "code",
   "execution_count": 104,
   "metadata": {},
   "outputs": [
    {
     "name": "stdout",
     "output_type": "stream",
     "text": [
      "15\n"
     ]
    }
   ],
   "source": [
    "while PN <= 0.95:\n",
    "    N = N + 1\n",
    "    PN = PN + poisson_proba(N)\n",
    "\n",
    "print (N)"
   ]
  },
  {
   "cell_type": "markdown",
   "metadata": {},
   "source": [
    "## Задача 3\n",
    "\n",
    "Производятся выстрелы по мишени. Вероятность попадания в мишень при одном выстреле равна 0.01. Сколько выстрелов нужно сделать чтобы быть уверенным с вероятностью 0.9, что хотя бы 6 раз будет совершено попадание?\n",
    "\n",
    "Подсказка. Здесь предстоит немножко покодить."
   ]
  },
  {
   "cell_type": "code",
   "execution_count": null,
   "metadata": {},
   "outputs": [],
   "source": [
    "P = 0.01\n",
    "n = 15\n",
    "k = 6\n",
    "PX = 0\n",
    "\n",
    "while PX < 0.9:\n",
    "    n = n + 1\n",
    "    PX = (combinations (n, k)) * (P ** k) * ((1 - p) ** (n - k))\n",
    "    \n",
    "n"
   ]
  },
  {
   "cell_type": "code",
   "execution_count": null,
   "metadata": {},
   "outputs": [],
   "source": []
  }
 ],
 "metadata": {
  "kernelspec": {
   "display_name": "Python 3",
   "language": "python",
   "name": "python3"
  },
  "language_info": {
   "codemirror_mode": {
    "name": "ipython",
    "version": 3
   },
   "file_extension": ".py",
   "mimetype": "text/x-python",
   "name": "python",
   "nbconvert_exporter": "python",
   "pygments_lexer": "ipython3",
   "version": "3.7.3"
  }
 },
 "nbformat": 4,
 "nbformat_minor": 2
}
