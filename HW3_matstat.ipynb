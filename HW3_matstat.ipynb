{
 "cells": [
  {
   "cell_type": "markdown",
   "metadata": {},
   "source": [
    "## Задача 1\n",
    "\n",
    "Даны значения зарплат из выборки выпускников:\n",
    "\n",
    "**100, 80, 75, 77, 89, 33, 45, 25, 65, 17, 30, 230, 24, 57, 55, 70, 75, 65, 84, 90, 150**\n",
    "\n",
    "Используя только встроенные питоновские функции и структуры данных (т.е. без библиотек numpy, pandas и др.) посчитать среднее арифметическое, смещённую и несмещённую оценки дисперсии, среднее квадратичное отклонение для данной выборки.\n",
    "\n",
    "Можно затем посчитать те же значения с использованием библиотек, чтобы проверить себя."
   ]
  },
  {
   "cell_type": "code",
   "execution_count": 37,
   "metadata": {},
   "outputs": [],
   "source": [
    "from math import sqrt"
   ]
  },
  {
   "cell_type": "code",
   "execution_count": 38,
   "metadata": {},
   "outputs": [
    {
     "name": "stdout",
     "output_type": "stream",
     "text": [
      "Среднее арифметическое:  73.14285714285714\n"
     ]
    }
   ],
   "source": [
    "x = [100, 80, 75, 77, 89, 33, 45, 25, 65, 17, 30, 230, 24, 57, 55, 70, 75, 65, 84, 90, 150]\n",
    "\n",
    "sum = 0\n",
    "\n",
    "for i in range (0, len (x)):\n",
    "    sum = sum + x[i]\n",
    "    i = i + 1\n",
    "    \n",
    "mean = sum/len (x)\n",
    "    \n",
    "print (\"Среднее арифметическое: \", mean)"
   ]
  },
  {
   "cell_type": "code",
   "execution_count": 98,
   "metadata": {},
   "outputs": [
    {
     "name": "stdout",
     "output_type": "stream",
     "text": [
      "Cмещенная оценка дисперсии:  2135.074829931973\n",
      "Несмещенная оценка дисперсии:  2241.8285714285716\n",
      "Среднее квадратичное отклонение:  47.34795213553139\n"
     ]
    }
   ],
   "source": [
    "sum_o = 0\n",
    "\n",
    "for i in range (0, len (x)):\n",
    "    sum_o = sum_o + (x[i] - mean) ** 2\n",
    "    i = i + 1\n",
    "    \n",
    "so = sum_o / len (x)\n",
    "no = sum_o / (len (x) - 1)\n",
    "\n",
    "ko = sqrt(sum_o / (len (x) - 1))\n",
    "\n",
    "print (\"Cмещенная оценка дисперсии: \", so)\n",
    "print (\"Несмещенная оценка дисперсии: \", no)\n",
    "print (\"Среднее квадратичное отклонение: \", ko)"
   ]
  },
  {
   "cell_type": "code",
   "execution_count": 56,
   "metadata": {},
   "outputs": [],
   "source": [
    "import pandas as pd\n",
    "import pandas as pd"
   ]
  },
  {
   "cell_type": "code",
   "execution_count": 99,
   "metadata": {},
   "outputs": [
    {
     "name": "stdout",
     "output_type": "stream",
     "text": [
      "Среднее арифметическое:  0    73.142857\n",
      "dtype: float64\n",
      "Cмещенная оценка дисперсии:  0    2135.07483\n",
      "dtype: float64\n",
      "Несмещенная оценка дисперсии:  0    2241.828571\n",
      "dtype: float64\n",
      "Среднее квадратичное отклонение:  0    47.347952\n",
      "dtype: float64\n"
     ]
    }
   ],
   "source": [
    "dg_df = pd.DataFrame(x, index = ['1', '2', '3', '4', '5', '6', '7', '8', '9', '10', '11', '12', '13', \n",
    "                                 '14', '15', '16', '17', '18', '19', '20', '21'])\n",
    "\n",
    "\n",
    "print (\"Среднее арифметическое: \", dg_df.mean())\n",
    "print (\"Cмещенная оценка дисперсии: \", dg_df.var(ddof=0))\n",
    "print (\"Несмещенная оценка дисперсии: \", dg_df.var(ddof=1))\n",
    "print (\"Среднее квадратичное отклонение: \", dg_df.std(ddof=1))"
   ]
  },
  {
   "cell_type": "markdown",
   "metadata": {},
   "source": [
    "## Задача 2\n",
    "\n",
    "Для выборки из задачи 1 найти (также без использования библиотек):\n",
    "1. медиану, первый и третий квартили, интерквартильное расстояние,\n",
    "2. выборсы в выборке (используя для этого метод как при построении \"усов\" из boxplot).\n",
    "\n",
    "Возможные неоднозначности в вычислении квантилей можно разрешать любым способом."
   ]
  },
  {
   "cell_type": "code",
   "execution_count": 104,
   "metadata": {},
   "outputs": [
    {
     "data": {
      "text/plain": [
       "False"
      ]
     },
     "execution_count": 104,
     "metadata": {},
     "output_type": "execute_result"
    }
   ],
   "source": [
    "len (x) % 4 == 0\n"
   ]
  },
  {
   "cell_type": "code",
   "execution_count": 110,
   "metadata": {},
   "outputs": [
    {
     "data": {
      "text/plain": [
       "[75, 77, 89]"
      ]
     },
     "execution_count": 110,
     "metadata": {},
     "output_type": "execute_result"
    }
   ],
   "source": [
    "x [len (x) // (2 + 1) // 2 - 1 ): (len (x) // (2 + 1) // 2 + 2)]"
   ]
  },
  {
   "cell_type": "code",
   "execution_count": 100,
   "metadata": {
    "scrolled": true
   },
   "outputs": [
    {
     "data": {
      "text/plain": [
       "0    45.0\n",
       "Name: 0.25, dtype: float64"
      ]
     },
     "execution_count": 100,
     "metadata": {},
     "output_type": "execute_result"
    }
   ],
   "source": [
    "dg_df.quantile(0.25)"
   ]
  },
  {
   "cell_type": "code",
   "execution_count": null,
   "metadata": {},
   "outputs": [],
   "source": []
  }
 ],
 "metadata": {
  "kernelspec": {
   "display_name": "Python 3",
   "language": "python",
   "name": "python3"
  },
  "language_info": {
   "codemirror_mode": {
    "name": "ipython",
    "version": 3
   },
   "file_extension": ".py",
   "mimetype": "text/x-python",
   "name": "python",
   "nbconvert_exporter": "python",
   "pygments_lexer": "ipython3",
   "version": "3.7.3"
  }
 },
 "nbformat": 4,
 "nbformat_minor": 2
}
