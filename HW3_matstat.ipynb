{
 "cells": [
  {
   "cell_type": "markdown",
   "metadata": {},
   "source": [
    "## Задача 1\n",
    "\n",
    "Даны значения зарплат из выборки выпускников:\n",
    "\n",
    "**100, 80, 75, 77, 89, 33, 45, 25, 65, 17, 30, 230, 24, 57, 55, 70, 75, 65, 84, 90, 150**\n",
    "\n",
    "Используя только встроенные питоновские функции и структуры данных (т.е. без библиотек numpy, pandas и др.) посчитать среднее арифметическое, смещённую и несмещённую оценки дисперсии, среднее квадратичное отклонение для данной выборки.\n",
    "\n",
    "Можно затем посчитать те же значения с использованием библиотек, чтобы проверить себя."
   ]
  },
  {
   "cell_type": "code",
   "execution_count": 37,
   "metadata": {},
   "outputs": [],
   "source": [
    "from math import sqrt"
   ]
  },
  {
   "cell_type": "code",
   "execution_count": 38,
   "metadata": {},
   "outputs": [
    {
     "name": "stdout",
     "output_type": "stream",
     "text": [
      "Среднее арифметическое:  73.14285714285714\n"
     ]
    }
   ],
   "source": [
    "x = [100, 80, 75, 77, 89, 33, 45, 25, 65, 17, 30, 230, 24, 57, 55, 70, 75, 65, 84, 90, 150]\n",
    "\n",
    "sum = 0\n",
    "\n",
    "for i in range (0, len (x)):\n",
    "    sum = sum + x[i]\n",
    "    i = i + 1\n",
    "    \n",
    "mean = sum/len (x)\n",
    "    \n",
    "print (\"Среднее арифметическое: \", mean)"
   ]
  },
  {
   "cell_type": "code",
   "execution_count": 98,
   "metadata": {},
   "outputs": [
    {
     "name": "stdout",
     "output_type": "stream",
     "text": [
      "Cмещенная оценка дисперсии:  2135.074829931973\n",
      "Несмещенная оценка дисперсии:  2241.8285714285716\n",
      "Среднее квадратичное отклонение:  47.34795213553139\n"
     ]
    }
   ],
   "source": [
    "sum_o = 0\n",
    "\n",
    "for i in range (0, len (x)):\n",
    "    sum_o = sum_o + (x[i] - mean) ** 2\n",
    "    i = i + 1\n",
    "    \n",
    "so = sum_o / len (x)\n",
    "no = sum_o / (len (x) - 1)\n",
    "\n",
    "ko = sqrt(sum_o / (len (x) - 1))\n",
    "\n",
    "print (\"Cмещенная оценка дисперсии: \", so)\n",
    "print (\"Несмещенная оценка дисперсии: \", no)\n",
    "print (\"Среднее квадратичное отклонение: \", ko)"
   ]
  },
  {
   "cell_type": "code",
   "execution_count": 56,
   "metadata": {},
   "outputs": [],
   "source": [
    "import pandas as pd\n",
    "import pandas as pd"
   ]
  },
  {
   "cell_type": "code",
   "execution_count": 99,
   "metadata": {},
   "outputs": [
    {
     "name": "stdout",
     "output_type": "stream",
     "text": [
      "Среднее арифметическое:  0    73.142857\n",
      "dtype: float64\n",
      "Cмещенная оценка дисперсии:  0    2135.07483\n",
      "dtype: float64\n",
      "Несмещенная оценка дисперсии:  0    2241.828571\n",
      "dtype: float64\n",
      "Среднее квадратичное отклонение:  0    47.347952\n",
      "dtype: float64\n"
     ]
    }
   ],
   "source": [
    "dg_df = pd.DataFrame(x, index = ['1', '2', '3', '4', '5', '6', '7', '8', '9', '10', '11', '12', '13', \n",
    "                                 '14', '15', '16', '17', '18', '19', '20', '21'])\n",
    "\n",
    "\n",
    "print (\"Среднее арифметическое: \", dg_df.mean())\n",
    "print (\"Cмещенная оценка дисперсии: \", dg_df.var(ddof=0))\n",
    "print (\"Несмещенная оценка дисперсии: \", dg_df.var(ddof=1))\n",
    "print (\"Среднее квадратичное отклонение: \", dg_df.std(ddof=1))"
   ]
  },
  {
   "cell_type": "markdown",
   "metadata": {},
   "source": [
    "## Задача 2\n",
    "\n",
    "Для выборки из задачи 1 найти (также без использования библиотек):\n",
    "1. медиану, первый и третий квартили, интерквартильное расстояние,\n",
    "2. выборсы в выборке (используя для этого метод как при построении \"усов\" из boxplot).\n",
    "\n",
    "Возможные неоднозначности в вычислении квантилей можно разрешать любым способом."
   ]
  },
  {
   "cell_type": "code",
   "execution_count": 111,
   "metadata": {},
   "outputs": [
    {
     "data": {
      "text/plain": [
       "False"
      ]
     },
     "execution_count": 111,
     "metadata": {},
     "output_type": "execute_result"
    }
   ],
   "source": [
    "len (x) % 4 == 0\n"
   ]
  },
  {
   "cell_type": "code",
   "execution_count": 135,
   "metadata": {},
   "outputs": [
    {
     "name": "stdout",
     "output_type": "stream",
     "text": [
      "Первый квартиль:  45\n",
      "Третий квартиль:  84\n"
     ]
    }
   ],
   "source": [
    "xs = sorted (x)\n",
    "\n",
    "q1 = xs [(len(x)// 2 + 1) // 2]\n",
    "\n",
    "q3 = xs [((len(x)// 2 + 1) // 2)*3]\n",
    "\n",
    "print (\"Первый квартиль: \", q1)\n",
    "print (\"Третий квартиль: \", q3)"
   ]
  },
  {
   "cell_type": "code",
   "execution_count": 137,
   "metadata": {
    "scrolled": true
   },
   "outputs": [
    {
     "data": {
      "text/plain": [
       "0    45.0\n",
       "Name: 0.25, dtype: float64"
      ]
     },
     "execution_count": 137,
     "metadata": {},
     "output_type": "execute_result"
    }
   ],
   "source": [
    "dg_df.quantile(0.25)"
   ]
  },
  {
   "cell_type": "code",
   "execution_count": 138,
   "metadata": {},
   "outputs": [
    {
     "data": {
      "text/plain": [
       "0    84.0\n",
       "Name: 0.75, dtype: float64"
      ]
     },
     "execution_count": 138,
     "metadata": {},
     "output_type": "execute_result"
    }
   ],
   "source": [
    "dg_df.quantile(0.75)"
   ]
  },
  {
   "cell_type": "code",
   "execution_count": 139,
   "metadata": {},
   "outputs": [
    {
     "data": {
      "text/plain": [
       "<matplotlib.axes._subplots.AxesSubplot at 0x120ebcf28>"
      ]
     },
     "execution_count": 139,
     "metadata": {},
     "output_type": "execute_result"
    },
    {
     "data": {
      "image/png": "[encoded data removed]",
      "text/plain": [
       "<Figure size 432x288 with 1 Axes>"
      ]
     },
     "metadata": {
      "needs_background": "light"
     },
     "output_type": "display_data"
    }
   ],
   "source": [
    "dg_df.boxplot()"
   ]
  },
  {
   "cell_type": "code",
   "execution_count": 140,
   "metadata": {},
   "outputs": [
    {
     "data": {
      "text/plain": [
       "(-13.5, 142.5)"
      ]
     },
     "execution_count": 140,
     "metadata": {},
     "output_type": "execute_result"
    }
   ],
   "source": [
    "iqr = q3 - q1\n",
    "\n",
    "boxplot_range = (q1 - 1.5 * iqr, q3 + 1.5 * iqr)\n",
    "\n",
    "boxplot_range"
   ]
  },
  {
   "cell_type": "code",
   "execution_count": 149,
   "metadata": {},
   "outputs": [
    {
     "name": "stdout",
     "output_type": "stream",
     "text": [
      "230\n",
      "150\n"
     ]
    }
   ],
   "source": [
    "for i in range (0, 21):\n",
    "    if x[i] < boxplot_range[0] or x[i] > boxplot_range[1]:\n",
    "        print(x[i])\n"
   ]
  },
  {
   "cell_type": "markdown",
   "metadata": {},
   "source": [
    "## Задача 3\n",
    "\n",
    "В университет на факультеты A и B поступило равное количество студентов, а на факультет C студентов поступило столько же, сколько на A и B вместе. Вероятность того, что студент факультета A сдаст первую сессию, равна 0.8. Для студента факультета B эта вероятность равна 0.7, а для студента факультета C - 0.9. Студент сдал первую сессию. Какова вероятность, что он учится: a) на факультете A? б) на факультете B? в) на факультете C?\n",
    "\n",
    "Замечание: да, эта задача не на тему описательных статистик, но тема важная, и её стоит иногда освежать в памяти."
   ]
  },
  {
   "cell_type": "code",
   "execution_count": 152,
   "metadata": {},
   "outputs": [
    {
     "data": {
      "text/plain": [
       "0.825"
      ]
     },
     "execution_count": 152,
     "metadata": {},
     "output_type": "execute_result"
    }
   ],
   "source": [
    "P_a = 0.8\n",
    "P_b = 0.7\n",
    "P_c = 0.9\n",
    "\n",
    "P = (P_a / 4) + (P_b /4) + (P_c / 2)\n",
    "\n",
    "P"
   ]
  },
  {
   "cell_type": "code",
   "execution_count": 4,
   "metadata": {},
   "outputs": [
    {
     "name": "stdout",
     "output_type": "stream",
     "text": [
      "Вероятность того, что студент учится на факультете A:  0.24242424242424246\n"
     ]
    }
   ],
   "source": [
    "P1 = 0.8 * 0.25 / 0.825\n",
    "\n",
    "print (\"Вероятность того, что студент учится на факультете A: \", P1)"
   ]
  },
  {
   "cell_type": "code",
   "execution_count": 6,
   "metadata": {},
   "outputs": [
    {
     "name": "stdout",
     "output_type": "stream",
     "text": [
      "Вероятность того, что студент учится на факультете A:  0.21212121212121213\n"
     ]
    }
   ],
   "source": [
    "P2 = 0.7 * 0.25 / 0.825\n",
    "\n",
    "print (\"Вероятность того, что студент учится на факультете B: \", P2)"
   ]
  },
  {
   "cell_type": "code",
   "execution_count": 7,
   "metadata": {},
   "outputs": [
    {
     "name": "stdout",
     "output_type": "stream",
     "text": [
      "Вероятность того, что студент учится на факультете С:  0.5454545454545455\n"
     ]
    }
   ],
   "source": [
    "P3 = 0.9 * 0.5 / 0.825\n",
    "\n",
    "print (\"Вероятность того, что студент учится на факультете С: \", P3)"
   ]
  },
  {
   "cell_type": "code",
   "execution_count": null,
   "metadata": {},
   "outputs": [],
   "source": []
  }
 ],
 "metadata": {
  "kernelspec": {
   "display_name": "Python 3",
   "language": "python",
   "name": "python3"
  },
  "language_info": {
   "codemirror_mode": {
    "name": "ipython",
    "version": 3
   },
   "file_extension": ".py",
   "mimetype": "text/x-python",
   "name": "python",
   "nbconvert_exporter": "python",
   "pygments_lexer": "ipython3",
   "version": "3.7.3"
  }
 },
 "nbformat": 4,
 "nbformat_minor": 2
}
