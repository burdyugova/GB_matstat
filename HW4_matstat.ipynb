{
 "cells": [
  {
   "cell_type": "markdown",
   "metadata": {},
   "source": [
    "## Задача 1\n",
    "\n",
    "О непрерывной равномерно распределённой случайной величине B известно, что её дисперсия равна 0.2. Можно ли найти правую границу величины B и её среднее значение зная, что левая граница равна 0.5? Если да, найдите их."
   ]
  },
  {
   "cell_type": "code",
   "execution_count": 7,
   "metadata": {},
   "outputs": [],
   "source": [
    "import pandas as pd\n",
    "import numpy as np\n",
    "import seaborn as sns\n",
    "from matplotlib import pyplot as plt\n",
    "from scipy import stats\n",
    "from math import sqrt"
   ]
  },
  {
   "cell_type": "code",
   "execution_count": 8,
   "metadata": {},
   "outputs": [],
   "source": [
    "Db = 0.2 \n",
    "a = 0.5"
   ]
  },
  {
   "cell_type": "markdown",
   "metadata": {},
   "source": [
    "$$ Db = (b-a)^2 / 12$$\n",
    "\n",
    "$$0.2 = (b - 0.5)^2 / 12$$\n",
    "\n",
    "$$ b^2 - b - 2.15 = 0 $$\n",
    "\n",
    "$$ D = 1^2 - 4 * 1 * (-2.15) = 9.6 $$"
   ]
  },
  {
   "cell_type": "code",
   "execution_count": 13,
   "metadata": {},
   "outputs": [
    {
     "name": "stdout",
     "output_type": "stream",
     "text": [
      "Правая граница:  2.049193338482967\n",
      "Не подходит. Правая граница не может быть меньше, чем левая:  -1.0491933384829668\n"
     ]
    }
   ],
   "source": [
    "b1 = (1 + sqrt (9.6)) / 2\n",
    "print (\"Правая граница: \", b1)\n",
    "\n",
    "b2 = (1 - sqrt (9.6)) / 2\n",
    "print (\"Не подходит. Правая граница не может быть меньше, чем левая: \", b2)"
   ]
  },
  {
   "cell_type": "markdown",
   "metadata": {},
   "source": [
    "## Задача 2\n",
    "\n",
    "Коробки с шоколадом упаковываются автоматически. Их средняя масса равна 1.06 кг. Известно, что 5% коробок имеют массу, меньшую 1 кг. Найдите: а) среднее квадратическое отклонение массы коробки, б) процент коробок, имеющих массу больше 1.1 кг.\n",
    "\n",
    "Подсказка. Найдите такое значение scale, для которого значение cdf(x=1, loc=1.06, scale=scale) близко к 0.05. Точности 0.0001 будет достаточно."
   ]
  },
  {
   "cell_type": "code",
   "execution_count": null,
   "metadata": {},
   "outputs": [],
   "source": []
  },
  {
   "cell_type": "markdown",
   "metadata": {},
   "source": [
    "## Задача 3\n",
    "\n",
    "Коробка содержит 30 конфет. Известно, что масса каждой конфеты распределена равномерно в промежутке от 12 до 14 граммов. Используя центральную предельную теорему, найти вероятность, что масса всей коробки будет: а) меньше 390 граммов, б) больше 395 граммов, в) от 380 до 400 граммов.\n",
    "\n",
    "Массой самой коробки можно пренебречь."
   ]
  },
  {
   "cell_type": "markdown",
   "metadata": {},
   "source": [
    "### Центральная предельная теорема\n",
    "\n",
    "Одно из практически уникальных свойств нормального распределения — __устойчивость__ — означает, что если $X$ и $Y$ — _независимые нормально распределённые_ случайные величины, то их комбинация $Z = a \\cdot X + b \\cdot Y$ ($a$, $b$ — числа) также имеет нормальное распределение. Более того, для распределения $Z$ верны следующие равенства. Математическое ожидание:\n",
    "$$M(Z) = a \\cdot M(X) + b \\cdot M(Y)$$\n",
    "Дисперсия:\n",
    "$$D(Z) = |a| \\cdot D(X) + |b| \\cdot D(Y)$$"
   ]
  },
  {
   "cell_type": "code",
   "execution_count": 15,
   "metadata": {},
   "outputs": [
    {
     "name": "stdout",
     "output_type": "stream",
     "text": [
      "m =  13.0\n",
      "d =  0.3333333333333333\n"
     ]
    }
   ],
   "source": [
    "x = 12\n",
    "y = 14\n",
    "\n",
    "m = (x + y) / 2\n",
    "d = (x - y) ** 2 /12\n",
    "\n",
    "print (\"m = \", m)\n",
    "\n",
    "print (\"d = \", d)"
   ]
  },
  {
   "cell_type": "code",
   "execution_count": 19,
   "metadata": {},
   "outputs": [],
   "source": [
    "a = 30 * m\n",
    "sigma = sqrt (30 * d)\n",
    "norm = stats.norm (loc = a, scale = sigma)"
   ]
  },
  {
   "cell_type": "code",
   "execution_count": 21,
   "metadata": {},
   "outputs": [
    {
     "name": "stdout",
     "output_type": "stream",
     "text": [
      "Вероятность того, что коробка весит меньше 390 граммов:  0.5\n"
     ]
    }
   ],
   "source": [
    "o1 = norm.cdf(390)\n",
    "\n",
    "print (\"Вероятность того, что коробка весит меньше 390 граммов: \", o1)"
   ]
  },
  {
   "cell_type": "code",
   "execution_count": 22,
   "metadata": {},
   "outputs": [
    {
     "name": "stdout",
     "output_type": "stream",
     "text": [
      "Вероятность того, что коробка весит больше 395 граммов:  0.056923149003329065\n"
     ]
    }
   ],
   "source": [
    "o2 = 1 - norm.cdf(395)\n",
    "\n",
    "print (\"Вероятность того, что коробка весит больше 395 граммов: \", o2)"
   ]
  },
  {
   "cell_type": "code",
   "execution_count": 23,
   "metadata": {},
   "outputs": [
    {
     "name": "stdout",
     "output_type": "stream",
     "text": [
      "Вероятность того, что коробка весит от 380 до 400 граммов:  0.9984345977419975\n"
     ]
    }
   ],
   "source": [
    "o3 = norm.cdf(400) - norm.cdf (380)\n",
    "\n",
    "print (\"Вероятность того, что коробка весит от 380 до 400 граммов: \", o3)"
   ]
  },
  {
   "cell_type": "code",
   "execution_count": null,
   "metadata": {},
   "outputs": [],
   "source": []
  }
 ],
 "metadata": {
  "kernelspec": {
   "display_name": "Python 3",
   "language": "python",
   "name": "python3"
  },
  "language_info": {
   "codemirror_mode": {
    "name": "ipython",
    "version": 3
   },
   "file_extension": ".py",
   "mimetype": "text/x-python",
   "name": "python",
   "nbconvert_exporter": "python",
   "pygments_lexer": "ipython3",
   "version": "3.7.3"
  }
 },
 "nbformat": 4,
 "nbformat_minor": 2
}
